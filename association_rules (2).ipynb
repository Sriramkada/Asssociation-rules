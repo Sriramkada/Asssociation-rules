{
  "nbformat": 4,
  "nbformat_minor": 0,
  "metadata": {
    "colab": {
      "provenance": []
    },
    "kernelspec": {
      "name": "python3",
      "display_name": "Python 3"
    },
    "language_info": {
      "name": "python"
    }
  },
  "cells": [
    {
      "cell_type": "code",
      "source": [
        "import pandas as pd\n",
        "\n",
        "# Load the dataset\n",
        "df = pd.read_excel(\"Online retail.xlsx\", header=None)\n",
        "\n",
        "# Display the first few rows of the dataframe\n",
        "print(\"Initial Dataset Preview:\")\n",
        "print(df.head())\n",
        "\n",
        "# Convert the transactions into a list of lists\n",
        "transactions = df[0].apply(lambda x: x.split(','))\n",
        "\n",
        "# Removing any whitespace around the product names\n",
        "transactions = transactions.apply(lambda x: [item.strip() for item in x])\n",
        "\n",
        "# Convert the data into a one-hot encoded DataFrame suitable for the Apriori algorithm\n",
        "from mlxtend.preprocessing import TransactionEncoder\n",
        "\n",
        "te = TransactionEncoder()\n",
        "te_ary = te.fit(transactions).transform(transactions)\n",
        "df_encoded = pd.DataFrame(te_ary, columns=te.columns_)\n",
        "\n",
        "# Display the one-hot encoded dataframe\n",
        "print(\"One-hot Encoded DataFrame:\")\n",
        "print(df_encoded.head())\n"
      ],
      "metadata": {
        "colab": {
          "base_uri": "https://localhost:8080/"
        },
        "id": "1RJlsqG1bGhG",
        "outputId": "0f0b57b9-5d96-49fc-f60a-427f6037a4be"
      },
      "execution_count": 7,
      "outputs": [
        {
          "output_type": "stream",
          "name": "stderr",
          "text": [
            "/usr/local/lib/python3.10/dist-packages/ipykernel/ipkernel.py:283: DeprecationWarning: `should_run_async` will not call `transform_cell` automatically in the future. Please pass the result to `transformed_cell` argument and any exception that happen during thetransform in `preprocessing_exc_tuple` in IPython 7.17 and above.\n",
            "  and should_run_async(code)\n"
          ]
        },
        {
          "output_type": "stream",
          "name": "stdout",
          "text": [
            "Initial Dataset Preview:\n",
            "                                                   0\n",
            "0  shrimp,almonds,avocado,vegetables mix,green gr...\n",
            "1                             burgers,meatballs,eggs\n",
            "2                                            chutney\n",
            "3                                     turkey,avocado\n",
            "4  mineral water,milk,energy bar,whole wheat rice...\n",
            "One-hot Encoded DataFrame:\n",
            "   almonds  antioxydant juice  asparagus  avocado  babies food  bacon  \\\n",
            "0     True               True      False     True        False  False   \n",
            "1    False              False      False    False        False  False   \n",
            "2    False              False      False    False        False  False   \n",
            "3    False              False      False     True        False  False   \n",
            "4    False              False      False    False        False  False   \n",
            "\n",
            "   barbecue sauce  black tea  blueberries  body spray  ...  turkey  \\\n",
            "0           False      False        False       False  ...   False   \n",
            "1           False      False        False       False  ...   False   \n",
            "2           False      False        False       False  ...   False   \n",
            "3           False      False        False       False  ...    True   \n",
            "4           False      False        False       False  ...   False   \n",
            "\n",
            "   vegetables mix  water spray  white wine  whole weat flour  \\\n",
            "0            True        False       False              True   \n",
            "1           False        False       False             False   \n",
            "2           False        False       False             False   \n",
            "3           False        False       False             False   \n",
            "4           False        False       False             False   \n",
            "\n",
            "   whole wheat pasta  whole wheat rice   yams  yogurt cake  zucchini  \n",
            "0              False             False   True        False     False  \n",
            "1              False             False  False        False     False  \n",
            "2              False             False  False        False     False  \n",
            "3              False             False  False        False     False  \n",
            "4              False              True  False        False     False  \n",
            "\n",
            "[5 rows x 119 columns]\n"
          ]
        }
      ]
    },
    {
      "cell_type": "code",
      "source": [
        "from mlxtend.frequent_patterns import apriori, association_rules\n",
        "\n",
        "# Apply the Apriori algorithm with a minimum support threshold\n",
        "frequent_itemsets = apriori(df_encoded, min_support=0.02, use_colnames=True)\n",
        "\n",
        "# Generate the association rules with a minimum confidence threshold\n",
        "rules = association_rules(frequent_itemsets, metric=\"confidence\", min_threshold=0.3)\n",
        "\n",
        "# Display the association rules\n",
        "print(\"Generated Association Rules:\")\n",
        "print(rules.head())\n"
      ],
      "metadata": {
        "colab": {
          "base_uri": "https://localhost:8080/"
        },
        "id": "gb_YsZMEbT_X",
        "outputId": "44090e36-9610-4a89-d45f-c909ca8e0baf"
      },
      "execution_count": 8,
      "outputs": [
        {
          "output_type": "stream",
          "name": "stdout",
          "text": [
            "Generated Association Rules:\n",
            "     antecedents      consequents  antecedent support  consequent support  \\\n",
            "0      (burgers)           (eggs)            0.087188            0.179709   \n",
            "1         (cake)  (mineral water)            0.081056            0.238368   \n",
            "2      (chicken)  (mineral water)            0.059992            0.238368   \n",
            "3    (chocolate)  (mineral water)            0.163845            0.238368   \n",
            "4  (cooking oil)  (mineral water)            0.051060            0.238368   \n",
            "\n",
            "    support  confidence      lift  leverage  conviction  zhangs_metric  \n",
            "0  0.028796    0.330275  1.837830  0.013128    1.224818       0.499424  \n",
            "1  0.027463    0.338816  1.421397  0.008142    1.151921       0.322617  \n",
            "2  0.022797    0.380000  1.594172  0.008497    1.228438       0.396502  \n",
            "3  0.052660    0.321400  1.348332  0.013604    1.122357       0.308965  \n",
            "4  0.020131    0.394256  1.653978  0.007960    1.257349       0.416672  \n"
          ]
        },
        {
          "output_type": "stream",
          "name": "stderr",
          "text": [
            "/usr/local/lib/python3.10/dist-packages/ipykernel/ipkernel.py:283: DeprecationWarning: `should_run_async` will not call `transform_cell` automatically in the future. Please pass the result to `transformed_cell` argument and any exception that happen during thetransform in `preprocessing_exc_tuple` in IPython 7.17 and above.\n",
            "  and should_run_async(code)\n"
          ]
        }
      ]
    },
    {
      "cell_type": "code",
      "source": [
        "# Sort rules by lift to find the most significant associations\n",
        "rules = rules.sort_values(by='lift', ascending=False)\n",
        "\n",
        "# Display the top 10 rules sorted by lift\n",
        "top_rules = rules.head(10)\n",
        "print(\"Top 10 Association Rules Sorted by Lift:\")\n",
        "print(top_rules)\n",
        "\n",
        "# Example interpretation:\n",
        "# Look for rules with high lift, which indicates a strong association between the products.\n",
        "# For instance, if 'mineral water' and 'salmon' appear together frequently and have a high lift, these could be promoted as a bundle.\n"
      ],
      "metadata": {
        "colab": {
          "base_uri": "https://localhost:8080/"
        },
        "id": "YFSzpYMAbZRk",
        "outputId": "30b3184a-60d4-413c-cb72-7d6515300b5b"
      },
      "execution_count": 9,
      "outputs": [
        {
          "output_type": "stream",
          "name": "stdout",
          "text": [
            "Top 10 Association Rules Sorted by Lift:\n",
            "            antecedents      consequents  antecedent support  \\\n",
            "8         (ground beef)      (spaghetti)            0.098254   \n",
            "18          (olive oil)      (spaghetti)            0.065858   \n",
            "14               (soup)  (mineral water)            0.050527   \n",
            "0             (burgers)           (eggs)            0.087188   \n",
            "11          (olive oil)  (mineral water)            0.065858   \n",
            "19           (tomatoes)      (spaghetti)            0.068391   \n",
            "7         (ground beef)  (mineral water)            0.098254   \n",
            "4         (cooking oil)  (mineral water)            0.051060   \n",
            "2             (chicken)  (mineral water)            0.059992   \n",
            "6   (frozen vegetables)  (mineral water)            0.095321   \n",
            "\n",
            "    consequent support   support  confidence      lift  leverage  conviction  \\\n",
            "8             0.174110  0.039195    0.398915  2.291162  0.022088    1.373997   \n",
            "18            0.174110  0.022930    0.348178  1.999758  0.011464    1.267048   \n",
            "14            0.238368  0.023064    0.456464  1.914955  0.011020    1.401255   \n",
            "0             0.179709  0.028796    0.330275  1.837830  0.013128    1.224818   \n",
            "11            0.238368  0.027596    0.419028  1.757904  0.011898    1.310962   \n",
            "19            0.174110  0.020931    0.306043  1.757755  0.009023    1.190117   \n",
            "7             0.238368  0.040928    0.416554  1.747522  0.017507    1.305401   \n",
            "4             0.238368  0.020131    0.394256  1.653978  0.007960    1.257349   \n",
            "2             0.238368  0.022797    0.380000  1.594172  0.008497    1.228438   \n",
            "6             0.238368  0.035729    0.374825  1.572463  0.013007    1.218270   \n",
            "\n",
            "    zhangs_metric  \n",
            "8        0.624943  \n",
            "18       0.535186  \n",
            "14       0.503221  \n",
            "0        0.499424  \n",
            "11       0.461536  \n",
            "19       0.462740  \n",
            "7        0.474369  \n",
            "4        0.416672  \n",
            "2        0.396502  \n",
            "6        0.402413  \n"
          ]
        },
        {
          "output_type": "stream",
          "name": "stderr",
          "text": [
            "/usr/local/lib/python3.10/dist-packages/ipykernel/ipkernel.py:283: DeprecationWarning: `should_run_async` will not call `transform_cell` automatically in the future. Please pass the result to `transformed_cell` argument and any exception that happen during thetransform in `preprocessing_exc_tuple` in IPython 7.17 and above.\n",
            "  and should_run_async(code)\n"
          ]
        }
      ]
    },
    {
      "cell_type": "code",
      "source": [
        "\"\"\"\n",
        "Interview Questions\n",
        "What is lift and why is it important in Association rules?\n",
        "\n",
        "Lift measures the strength of an association between two products. It is calculated as the ratio of the observed support to the expected support if the two items were independent. Lift > 1 indicates a positive correlation, which is important because it shows that the occurrence of one item increases the likelihood of the other.\n",
        "What is support and Confidence? How do you calculate them?\n",
        "\n",
        "Support is the frequency with which an itemset appears in the dataset. It is calculated as the number of transactions containing the itemset divided by the total number of transactions.\n",
        "Confidence is the likelihood that the consequent of a rule is present in transactions containing the antecedent. It is calculated as the ratio of the number of transactions containing both the antecedent and the consequent to the number of transactions containing the antecedent.\n",
        "What are some limitations or challenges of Association rules mining?\n",
        "\n",
        "Some challenges include the computational complexity of generating a large number of rules, difficulty in setting appropriate thresholds for support and confidence, and the potential for discovering rules that are not practically useful or are too obvious.\n",
        "\"\"\""
      ],
      "metadata": {
        "id": "eBg84iTDbf2t"
      },
      "execution_count": null,
      "outputs": []
    }
  ]
}